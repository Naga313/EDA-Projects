{
 "cells": [
  {
   "cell_type": "markdown",
   "id": "0bedfa0b",
   "metadata": {},
   "source": [
    "### Importing Libraries and load Dataset "
   ]
  },
  {
   "cell_type": "code",
   "execution_count": 1,
   "id": "e7a4cbaf",
   "metadata": {},
   "outputs": [],
   "source": [
    "import pandas as pd\n",
    "import numpy as np\n",
    "import matplotlib.pyplot as plt\n",
    "%matplotlib inline\n",
    "import seaborn as sns\n",
    "\n",
    "import warnings\n",
    "warnings.filterwarnings('ignore')"
   ]
  },
  {
   "cell_type": "code",
   "execution_count": 2,
   "id": "2f5923af",
   "metadata": {},
   "outputs": [],
   "source": [
    "data = pd.read_csv(\"A:/EDA Projects/bike_dataset.csv\")"
   ]
  },
  {
   "cell_type": "code",
   "execution_count": 3,
   "id": "418a796f",
   "metadata": {},
   "outputs": [
    {
     "data": {
      "text/plain": [
       "(361, 9)"
      ]
     },
     "execution_count": 3,
     "metadata": {},
     "output_type": "execute_result"
    }
   ],
   "source": [
    "data.shape"
   ]
  },
  {
   "cell_type": "code",
   "execution_count": 4,
   "id": "30faa3e6",
   "metadata": {},
   "outputs": [
    {
     "data": {
      "text/html": [
       "<div>\n",
       "<style scoped>\n",
       "    .dataframe tbody tr th:only-of-type {\n",
       "        vertical-align: middle;\n",
       "    }\n",
       "\n",
       "    .dataframe tbody tr th {\n",
       "        vertical-align: top;\n",
       "    }\n",
       "\n",
       "    .dataframe thead th {\n",
       "        text-align: right;\n",
       "    }\n",
       "</style>\n",
       "<table border=\"1\" class=\"dataframe\">\n",
       "  <thead>\n",
       "    <tr style=\"text-align: right;\">\n",
       "      <th></th>\n",
       "      <th>model_name</th>\n",
       "      <th>price</th>\n",
       "      <th>CC</th>\n",
       "      <th>mileage</th>\n",
       "      <th>type_of_bike</th>\n",
       "      <th>weight_in_kg</th>\n",
       "      <th>links</th>\n",
       "      <th>acceleration_speed</th>\n",
       "      <th>top_speed</th>\n",
       "    </tr>\n",
       "  </thead>\n",
       "  <tbody>\n",
       "    <tr>\n",
       "      <th>0</th>\n",
       "      <td>Gravton Motors Quanta</td>\n",
       "      <td>99000</td>\n",
       "      <td>NaN</td>\n",
       "      <td>320.0</td>\n",
       "      <td>Electric Bike</td>\n",
       "      <td>100</td>\n",
       "      <td>https://www.carandbike.com/gravton-motors-bike...</td>\n",
       "      <td>4.2</td>\n",
       "      <td>70.0</td>\n",
       "    </tr>\n",
       "    <tr>\n",
       "      <th>1</th>\n",
       "      <td>Simple Energy One</td>\n",
       "      <td>109999</td>\n",
       "      <td>NaN</td>\n",
       "      <td>236.0</td>\n",
       "      <td>Electric Bike</td>\n",
       "      <td>110</td>\n",
       "      <td>https://www.carandbike.com/simple-energy-bikes...</td>\n",
       "      <td>3.6</td>\n",
       "      <td>100.0</td>\n",
       "    </tr>\n",
       "    <tr>\n",
       "      <th>2</th>\n",
       "      <td>Okaya Classiq</td>\n",
       "      <td>69900</td>\n",
       "      <td>NaN</td>\n",
       "      <td>200.0</td>\n",
       "      <td>Electric Bike</td>\n",
       "      <td>95</td>\n",
       "      <td>https://www.carandbike.com/okaya-bikes/classiq</td>\n",
       "      <td>NaN</td>\n",
       "      <td>25.0</td>\n",
       "    </tr>\n",
       "    <tr>\n",
       "      <th>3</th>\n",
       "      <td>Oben Electric Rorr</td>\n",
       "      <td>102999</td>\n",
       "      <td>NaN</td>\n",
       "      <td>200.0</td>\n",
       "      <td>Electric Bike</td>\n",
       "      <td>120</td>\n",
       "      <td>https://www.carandbike.com/oben-electric-bikes...</td>\n",
       "      <td>3.0</td>\n",
       "      <td>100.0</td>\n",
       "    </tr>\n",
       "    <tr>\n",
       "      <th>4</th>\n",
       "      <td>Ola Electric S1</td>\n",
       "      <td>85099</td>\n",
       "      <td>NaN</td>\n",
       "      <td>181.0</td>\n",
       "      <td>Electric Bike</td>\n",
       "      <td>121</td>\n",
       "      <td>https://www.carandbike.com/ola-electric-bikes/s1</td>\n",
       "      <td>2.9</td>\n",
       "      <td>116.0</td>\n",
       "    </tr>\n",
       "  </tbody>\n",
       "</table>\n",
       "</div>"
      ],
      "text/plain": [
       "              model_name   price  CC  mileage   type_of_bike  weight_in_kg  \\\n",
       "0  Gravton Motors Quanta   99000 NaN    320.0  Electric Bike           100   \n",
       "1      Simple Energy One  109999 NaN    236.0  Electric Bike           110   \n",
       "2          Okaya Classiq   69900 NaN    200.0  Electric Bike            95   \n",
       "3     Oben Electric Rorr  102999 NaN    200.0  Electric Bike           120   \n",
       "4        Ola Electric S1   85099 NaN    181.0  Electric Bike           121   \n",
       "\n",
       "                                               links  acceleration_speed  \\\n",
       "0  https://www.carandbike.com/gravton-motors-bike...                 4.2   \n",
       "1  https://www.carandbike.com/simple-energy-bikes...                 3.6   \n",
       "2     https://www.carandbike.com/okaya-bikes/classiq                 NaN   \n",
       "3  https://www.carandbike.com/oben-electric-bikes...                 3.0   \n",
       "4   https://www.carandbike.com/ola-electric-bikes/s1                 2.9   \n",
       "\n",
       "   top_speed  \n",
       "0       70.0  \n",
       "1      100.0  \n",
       "2       25.0  \n",
       "3      100.0  \n",
       "4      116.0  "
      ]
     },
     "execution_count": 4,
     "metadata": {},
     "output_type": "execute_result"
    }
   ],
   "source": [
    "data.head()"
   ]
  },
  {
   "cell_type": "markdown",
   "id": "06b3154e",
   "metadata": {},
   "source": [
    "### Data Types"
   ]
  },
  {
   "cell_type": "code",
   "execution_count": 5,
   "id": "fb855776",
   "metadata": {},
   "outputs": [
    {
     "data": {
      "text/plain": [
       "model_name             object\n",
       "price                   int64\n",
       "CC                    float64\n",
       "mileage               float64\n",
       "type_of_bike           object\n",
       "weight_in_kg            int64\n",
       "links                  object\n",
       "acceleration_speed    float64\n",
       "top_speed             float64\n",
       "dtype: object"
      ]
     },
     "execution_count": 5,
     "metadata": {},
     "output_type": "execute_result"
    }
   ],
   "source": [
    "data.dtypes"
   ]
  },
  {
   "cell_type": "code",
   "execution_count": 6,
   "id": "6079b33b",
   "metadata": {},
   "outputs": [
    {
     "data": {
      "text/html": [
       "<div>\n",
       "<style scoped>\n",
       "    .dataframe tbody tr th:only-of-type {\n",
       "        vertical-align: middle;\n",
       "    }\n",
       "\n",
       "    .dataframe tbody tr th {\n",
       "        vertical-align: top;\n",
       "    }\n",
       "\n",
       "    .dataframe thead th {\n",
       "        text-align: right;\n",
       "    }\n",
       "</style>\n",
       "<table border=\"1\" class=\"dataframe\">\n",
       "  <thead>\n",
       "    <tr style=\"text-align: right;\">\n",
       "      <th></th>\n",
       "      <th>price</th>\n",
       "      <th>CC</th>\n",
       "      <th>mileage</th>\n",
       "      <th>weight_in_kg</th>\n",
       "      <th>acceleration_speed</th>\n",
       "      <th>top_speed</th>\n",
       "    </tr>\n",
       "  </thead>\n",
       "  <tbody>\n",
       "    <tr>\n",
       "      <th>count</th>\n",
       "      <td>3.610000e+02</td>\n",
       "      <td>304.000000</td>\n",
       "      <td>361.000000</td>\n",
       "      <td>361.000000</td>\n",
       "      <td>170.000000</td>\n",
       "      <td>200.000000</td>\n",
       "    </tr>\n",
       "    <tr>\n",
       "      <th>mean</th>\n",
       "      <td>8.399079e+05</td>\n",
       "      <td>680.973684</td>\n",
       "      <td>44.681413</td>\n",
       "      <td>178.839335</td>\n",
       "      <td>4.193412</td>\n",
       "      <td>99.338650</td>\n",
       "    </tr>\n",
       "    <tr>\n",
       "      <th>std</th>\n",
       "      <td>1.052083e+06</td>\n",
       "      <td>547.744364</td>\n",
       "      <td>39.890270</td>\n",
       "      <td>73.839516</td>\n",
       "      <td>2.369334</td>\n",
       "      <td>39.631992</td>\n",
       "    </tr>\n",
       "    <tr>\n",
       "      <th>min</th>\n",
       "      <td>3.800000e+04</td>\n",
       "      <td>87.800000</td>\n",
       "      <td>8.000000</td>\n",
       "      <td>55.000000</td>\n",
       "      <td>1.010000</td>\n",
       "      <td>25.000000</td>\n",
       "    </tr>\n",
       "    <tr>\n",
       "      <th>25%</th>\n",
       "      <td>1.000000e+05</td>\n",
       "      <td>164.425000</td>\n",
       "      <td>20.000000</td>\n",
       "      <td>118.000000</td>\n",
       "      <td>2.800000</td>\n",
       "      <td>79.500000</td>\n",
       "    </tr>\n",
       "    <tr>\n",
       "      <th>50%</th>\n",
       "      <td>2.420000e+05</td>\n",
       "      <td>618.000000</td>\n",
       "      <td>30.000000</td>\n",
       "      <td>169.000000</td>\n",
       "      <td>3.215000</td>\n",
       "      <td>100.000000</td>\n",
       "    </tr>\n",
       "    <tr>\n",
       "      <th>75%</th>\n",
       "      <td>1.459000e+06</td>\n",
       "      <td>1051.500000</td>\n",
       "      <td>55.000000</td>\n",
       "      <td>216.000000</td>\n",
       "      <td>5.075000</td>\n",
       "      <td>129.115000</td>\n",
       "    </tr>\n",
       "    <tr>\n",
       "      <th>max</th>\n",
       "      <td>7.990000e+06</td>\n",
       "      <td>2458.000000</td>\n",
       "      <td>320.000000</td>\n",
       "      <td>433.000000</td>\n",
       "      <td>13.800000</td>\n",
       "      <td>200.000000</td>\n",
       "    </tr>\n",
       "  </tbody>\n",
       "</table>\n",
       "</div>"
      ],
      "text/plain": [
       "              price           CC     mileage  weight_in_kg  \\\n",
       "count  3.610000e+02   304.000000  361.000000    361.000000   \n",
       "mean   8.399079e+05   680.973684   44.681413    178.839335   \n",
       "std    1.052083e+06   547.744364   39.890270     73.839516   \n",
       "min    3.800000e+04    87.800000    8.000000     55.000000   \n",
       "25%    1.000000e+05   164.425000   20.000000    118.000000   \n",
       "50%    2.420000e+05   618.000000   30.000000    169.000000   \n",
       "75%    1.459000e+06  1051.500000   55.000000    216.000000   \n",
       "max    7.990000e+06  2458.000000  320.000000    433.000000   \n",
       "\n",
       "       acceleration_speed   top_speed  \n",
       "count          170.000000  200.000000  \n",
       "mean             4.193412   99.338650  \n",
       "std              2.369334   39.631992  \n",
       "min              1.010000   25.000000  \n",
       "25%              2.800000   79.500000  \n",
       "50%              3.215000  100.000000  \n",
       "75%              5.075000  129.115000  \n",
       "max             13.800000  200.000000  "
      ]
     },
     "execution_count": 6,
     "metadata": {},
     "output_type": "execute_result"
    }
   ],
   "source": [
    "data.describe()"
   ]
  },
  {
   "cell_type": "markdown",
   "id": "84cd5dc7",
   "metadata": {},
   "source": [
    "### Checking for Missing Values"
   ]
  },
  {
   "cell_type": "code",
   "execution_count": 7,
   "id": "a63c9b52",
   "metadata": {},
   "outputs": [
    {
     "data": {
      "text/plain": [
       "model_name              0\n",
       "price                   0\n",
       "CC                     57\n",
       "mileage                 0\n",
       "type_of_bike            0\n",
       "weight_in_kg            0\n",
       "links                   0\n",
       "acceleration_speed    191\n",
       "top_speed             161\n",
       "dtype: int64"
      ]
     },
     "execution_count": 7,
     "metadata": {},
     "output_type": "execute_result"
    }
   ],
   "source": [
    "data.isna().sum()"
   ]
  },
  {
   "cell_type": "markdown",
   "id": "05afe8b7",
   "metadata": {},
   "source": [
    "### Visualizing Missing Values"
   ]
  },
  {
   "cell_type": "code",
   "execution_count": 8,
   "id": "9eb7180d",
   "metadata": {},
   "outputs": [
    {
     "data": {
      "text/plain": [
       "<AxesSubplot:>"
      ]
     },
     "execution_count": 8,
     "metadata": {},
     "output_type": "execute_result"
    },
    {
     "data": {
      "image/png": "[encoded data removed]",
      "text/plain": [
       "<Figure size 640x480 with 1 Axes>"
      ]
     },
     "metadata": {},
     "output_type": "display_data"
    }
   ],
   "source": [
    "sns.heatmap(data.isna(), cbar=False, cmap='plasma')"
   ]
  },
  {
   "cell_type": "markdown",
   "id": "5d7e0812",
   "metadata": {},
   "source": [
    "We can see that there are more missing values in acceration_speed and top_speed"
   ]
  },
  {
   "cell_type": "markdown",
   "id": "b0a21ed1",
   "metadata": {},
   "source": [
    "### Replacing the missing values"
   ]
  },
  {
   "cell_type": "code",
   "execution_count": 9,
   "id": "c0135e69",
   "metadata": {},
   "outputs": [],
   "source": [
    "cols = ['CC', 'acceleration_speed', 'top_speed']\n",
    "for col in cols:\n",
    "    data[col] = pd.to_numeric(data[col])\n",
    "    data[col].fillna(data[col].mean(), inplace=True)"
   ]
  },
  {
   "cell_type": "code",
   "execution_count": 10,
   "id": "e3a9562d",
   "metadata": {},
   "outputs": [
    {
     "data": {
      "text/html": [
       "<div>\n",
       "<style scoped>\n",
       "    .dataframe tbody tr th:only-of-type {\n",
       "        vertical-align: middle;\n",
       "    }\n",
       "\n",
       "    .dataframe tbody tr th {\n",
       "        vertical-align: top;\n",
       "    }\n",
       "\n",
       "    .dataframe thead th {\n",
       "        text-align: right;\n",
       "    }\n",
       "</style>\n",
       "<table border=\"1\" class=\"dataframe\">\n",
       "  <thead>\n",
       "    <tr style=\"text-align: right;\">\n",
       "      <th></th>\n",
       "      <th>model_name</th>\n",
       "      <th>price</th>\n",
       "      <th>CC</th>\n",
       "      <th>mileage</th>\n",
       "      <th>type_of_bike</th>\n",
       "      <th>weight_in_kg</th>\n",
       "      <th>links</th>\n",
       "      <th>acceleration_speed</th>\n",
       "      <th>top_speed</th>\n",
       "    </tr>\n",
       "  </thead>\n",
       "  <tbody>\n",
       "    <tr>\n",
       "      <th>0</th>\n",
       "      <td>Gravton Motors Quanta</td>\n",
       "      <td>99000</td>\n",
       "      <td>680.973684</td>\n",
       "      <td>320.0</td>\n",
       "      <td>Electric Bike</td>\n",
       "      <td>100</td>\n",
       "      <td>https://www.carandbike.com/gravton-motors-bike...</td>\n",
       "      <td>4.200000</td>\n",
       "      <td>70.0</td>\n",
       "    </tr>\n",
       "    <tr>\n",
       "      <th>1</th>\n",
       "      <td>Simple Energy One</td>\n",
       "      <td>109999</td>\n",
       "      <td>680.973684</td>\n",
       "      <td>236.0</td>\n",
       "      <td>Electric Bike</td>\n",
       "      <td>110</td>\n",
       "      <td>https://www.carandbike.com/simple-energy-bikes...</td>\n",
       "      <td>3.600000</td>\n",
       "      <td>100.0</td>\n",
       "    </tr>\n",
       "    <tr>\n",
       "      <th>2</th>\n",
       "      <td>Okaya Classiq</td>\n",
       "      <td>69900</td>\n",
       "      <td>680.973684</td>\n",
       "      <td>200.0</td>\n",
       "      <td>Electric Bike</td>\n",
       "      <td>95</td>\n",
       "      <td>https://www.carandbike.com/okaya-bikes/classiq</td>\n",
       "      <td>4.193412</td>\n",
       "      <td>25.0</td>\n",
       "    </tr>\n",
       "    <tr>\n",
       "      <th>3</th>\n",
       "      <td>Oben Electric Rorr</td>\n",
       "      <td>102999</td>\n",
       "      <td>680.973684</td>\n",
       "      <td>200.0</td>\n",
       "      <td>Electric Bike</td>\n",
       "      <td>120</td>\n",
       "      <td>https://www.carandbike.com/oben-electric-bikes...</td>\n",
       "      <td>3.000000</td>\n",
       "      <td>100.0</td>\n",
       "    </tr>\n",
       "    <tr>\n",
       "      <th>4</th>\n",
       "      <td>Ola Electric S1</td>\n",
       "      <td>85099</td>\n",
       "      <td>680.973684</td>\n",
       "      <td>181.0</td>\n",
       "      <td>Electric Bike</td>\n",
       "      <td>121</td>\n",
       "      <td>https://www.carandbike.com/ola-electric-bikes/s1</td>\n",
       "      <td>2.900000</td>\n",
       "      <td>116.0</td>\n",
       "    </tr>\n",
       "  </tbody>\n",
       "</table>\n",
       "</div>"
      ],
      "text/plain": [
       "              model_name   price          CC  mileage   type_of_bike  \\\n",
       "0  Gravton Motors Quanta   99000  680.973684    320.0  Electric Bike   \n",
       "1      Simple Energy One  109999  680.973684    236.0  Electric Bike   \n",
       "2          Okaya Classiq   69900  680.973684    200.0  Electric Bike   \n",
       "3     Oben Electric Rorr  102999  680.973684    200.0  Electric Bike   \n",
       "4        Ola Electric S1   85099  680.973684    181.0  Electric Bike   \n",
       "\n",
       "   weight_in_kg                                              links  \\\n",
       "0           100  https://www.carandbike.com/gravton-motors-bike...   \n",
       "1           110  https://www.carandbike.com/simple-energy-bikes...   \n",
       "2            95     https://www.carandbike.com/okaya-bikes/classiq   \n",
       "3           120  https://www.carandbike.com/oben-electric-bikes...   \n",
       "4           121   https://www.carandbike.com/ola-electric-bikes/s1   \n",
       "\n",
       "   acceleration_speed  top_speed  \n",
       "0            4.200000       70.0  \n",
       "1            3.600000      100.0  \n",
       "2            4.193412       25.0  \n",
       "3            3.000000      100.0  \n",
       "4            2.900000      116.0  "
      ]
     },
     "execution_count": 10,
     "metadata": {},
     "output_type": "execute_result"
    }
   ],
   "source": [
    "data.head()"
   ]
  },
  {
   "cell_type": "markdown",
   "id": "f1f992af",
   "metadata": {},
   "source": [
    "## Visulalizations "
   ]
  },
  {
   "cell_type": "markdown",
   "id": "c2b24f03",
   "metadata": {},
   "source": [
    "### How does the Accleration Speed affect Top Speed?"
   ]
  },
  {
   "cell_type": "code",
   "execution_count": 11,
   "id": "5a37ed99",
   "metadata": {
    "scrolled": false
   },
   "outputs": [
    {
     "data": {
      "text/plain": [
       "Text(0, 0.5, 'Top Speed')"
      ]
     },
     "execution_count": 11,
     "metadata": {},
     "output_type": "execute_result"
    },
    {
     "data": {
      "image/png": "[encoded data removed]",
      "text/plain": [
       "<Figure size 1000x500 with 1 Axes>"
      ]
     },
     "metadata": {},
     "output_type": "display_data"
    }
   ],
   "source": [
    "plt.figure(figsize=(10,5))\n",
    "plt.scatter(x='acceleration_speed', y='top_speed', data=data)\n",
    "plt.xlabel('Acceleration Speed')\n",
    "plt.ylabel('Top Speed')"
   ]
  },
  {
   "cell_type": "markdown",
   "id": "3e3d011b",
   "metadata": {},
   "source": [
    "We can observe from the plot that most of the accelration speed lies between 2-4 has top speed between 75-175, there are ouliers also between(10-14)  "
   ]
  },
  {
   "cell_type": "markdown",
   "id": "89ad8fd0",
   "metadata": {},
   "source": [
    "### Univariate Analysis of top speed"
   ]
  },
  {
   "cell_type": "code",
   "execution_count": 12,
   "id": "211e2860",
   "metadata": {},
   "outputs": [
    {
     "data": {
      "text/plain": [
       "<AxesSubplot:xlabel='top_speed', ylabel='Count'>"
      ]
     },
     "execution_count": 12,
     "metadata": {},
     "output_type": "execute_result"
    },
    {
     "data": {
      "image/png": "[encoded data removed]",
      "text/plain": [
       "<Figure size 640x480 with 1 Axes>"
      ]
     },
     "metadata": {},
     "output_type": "display_data"
    }
   ],
   "source": [
    "sns.histplot(data.top_speed, bins=10)"
   ]
  },
  {
   "cell_type": "markdown",
   "id": "9bd8cea4",
   "metadata": {},
   "source": [
    "The top speed is around 100"
   ]
  },
  {
   "cell_type": "markdown",
   "id": "9db835ad",
   "metadata": {},
   "source": [
    "### What is the relation between cc and price?"
   ]
  },
  {
   "cell_type": "code",
   "execution_count": 13,
   "id": "6044c436",
   "metadata": {},
   "outputs": [
    {
     "data": {
      "text/plain": [
       "Text(0, 0.5, 'Price')"
      ]
     },
     "execution_count": 13,
     "metadata": {},
     "output_type": "execute_result"
    },
    {
     "data": {
      "image/png": "[encoded data removed]",
      "text/plain": [
       "<Figure size 1000x500 with 1 Axes>"
      ]
     },
     "metadata": {},
     "output_type": "display_data"
    }
   ],
   "source": [
    "plt.figure(figsize=(10,5))\n",
    "plt.scatter(x='CC',y='price',data=data)\n",
    "plt.xlabel('CC')\n",
    "plt.ylabel('Price')"
   ]
  },
  {
   "cell_type": "markdown",
   "id": "039198fa",
   "metadata": {},
   "source": [
    "We can see from the plot that as the cc increases price increases in a linear manner and three outlier between(2000-2500)"
   ]
  },
  {
   "cell_type": "markdown",
   "id": "5d42449a",
   "metadata": {},
   "source": [
    "### Relation between type of bike and weight"
   ]
  },
  {
   "cell_type": "code",
   "execution_count": 14,
   "id": "d33998ca",
   "metadata": {},
   "outputs": [
    {
     "data": {
      "text/plain": [
       "Petrol Bike      304\n",
       "Electric Bike     57\n",
       "Name: type_of_bike, dtype: int64"
      ]
     },
     "execution_count": 14,
     "metadata": {},
     "output_type": "execute_result"
    }
   ],
   "source": [
    "data.type_of_bike.value_counts()"
   ]
  },
  {
   "cell_type": "code",
   "execution_count": 15,
   "id": "b7c47c70",
   "metadata": {},
   "outputs": [
    {
     "data": {
      "text/plain": [
       "<AxesSubplot:xlabel='weight_in_kg', ylabel='type_of_bike'>"
      ]
     },
     "execution_count": 15,
     "metadata": {},
     "output_type": "execute_result"
    },
    {
     "data": {
      "image/png": "[encoded data removed]",
      "text/plain": [
       "<Figure size 640x480 with 1 Axes>"
      ]
     },
     "metadata": {},
     "output_type": "display_data"
    }
   ],
   "source": [
    "sns.boxplot(x='weight_in_kg', y='type_of_bike', data=data)"
   ]
  },
  {
   "cell_type": "markdown",
   "id": "ce7e5a8c",
   "metadata": {},
   "source": [
    "With the boxplot, we can conclude that the average weight of petrol bike is 180 kg, and the average weight of a pelectric bike is 100kg"
   ]
  }
 ],
 "metadata": {
  "kernelspec": {
   "display_name": "Python 3 (ipykernel)",
   "language": "python",
   "name": "python3"
  },
  "language_info": {
   "codemirror_mode": {
    "name": "ipython",
    "version": 3
   },
   "file_extension": ".py",
   "mimetype": "text/x-python",
   "name": "python",
   "nbconvert_exporter": "python",
   "pygments_lexer": "ipython3",
   "version": "3.9.13"
  }
 },
 "nbformat": 4,
 "nbformat_minor": 5
}
